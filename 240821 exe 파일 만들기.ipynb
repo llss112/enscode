{
 "cells": [
  {
   "cell_type": "code",
   "execution_count": 8,
   "metadata": {},
   "outputs": [
    {
     "name": "stdout",
     "output_type": "stream",
     "text": [
      "Conversion to .exe completed successfully!\n"
     ]
    }
   ],
   "source": [
    "import subprocess\n",
    "import os\n",
    "\n",
    "def convert_to_exe(python_file_path):\n",
    "    # Check if the file exists\n",
    "    if not os.path.isfile(python_file_path):\n",
    "        print(f\"File not found: {python_file_path}\")\n",
    "        return\n",
    "\n",
    "    # Define the command to run PyInstaller\n",
    "    command = ['pyinstaller', '--onefile', python_file_path]\n",
    "    \n",
    "    try:\n",
    "        # Run the command using subprocess\n",
    "        subprocess.run(command, check=True)\n",
    "        print(\"Conversion to .exe completed successfully!\")\n",
    "    except subprocess.CalledProcessError as e:\n",
    "        print(f\"An error occurred while running PyInstaller: {e}\")\n",
    "\n",
    "# Example usage\n",
    "python_file_path = \"C:/Users/sujin/Desktop/sunggyu/python/code/240821_measurement_merge.py\"  # Replace with the path to your Python script\n",
    "convert_to_exe(python_file_path)"
   ]
  },
  {
   "cell_type": "code",
   "execution_count": 3,
   "metadata": {},
   "outputs": [
    {
     "name": "stdout",
     "output_type": "stream",
     "text": [
      "C:\\Users\\sujin\n"
     ]
    }
   ],
   "source": [
    "cd"
   ]
  }
 ],
 "metadata": {
  "kernelspec": {
   "display_name": "mlc2",
   "language": "python",
   "name": "python3"
  },
  "language_info": {
   "codemirror_mode": {
    "name": "ipython",
    "version": 3
   },
   "file_extension": ".py",
   "mimetype": "text/x-python",
   "name": "python",
   "nbconvert_exporter": "python",
   "pygments_lexer": "ipython3",
   "version": "3.7.16"
  }
 },
 "nbformat": 4,
 "nbformat_minor": 2
}
